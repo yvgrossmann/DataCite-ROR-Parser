{
 "cells": [
  {
   "cell_type": "code",
   "execution_count": null,
   "id": "66775b8b-35bd-418e-bc01-53ec06e57a39",
   "metadata": {},
   "outputs": [
    {
     "ename": "",
     "evalue": "",
     "output_type": "error",
     "traceback": [
      "\u001b[1;31mDas Ausführen von Zellen mit „Python 3.9.1 64-bit“ erfordert das ipykernel-Paket.\n",
      "\u001b[1;31mFühren Sie den folgenden Befehl aus, um „ipykernel“ in der Python-Umgebung zu installieren. \n",
      "\u001b[1;31mBefehl: „c:/Users/grossman/AppData/Local/Programs/Python/Python39/python.exe -m pip install ipykernel -U --user --force-reinstall“"
     ]
    }
   ],
   "source": [
    "# import libraries for json import \n",
    "import json\n",
    "import urllib.request, json \n",
    "\n",
    "# import libraries for json visualiziation\n",
    "import pandas as pd\n",
    "from pandas.io.json import json_normalize\n",
    "\n",
    "# connect to DataCite REST API and get items with special ROR ID and type dataset\n",
    "# https://ror.org/01hhn8329 is the ROR from the Max Planck Society\n",
    "with urllib.request.urlopen('https://api.datacite.org/dois?query=creators.affiliation.affiliationIdentifier:\"https://ror.org/01hhn8329\"') as url:\n",
    "    \n",
    "    # create a json file out of API call\n",
    "    DataCite = json.load(url)\n",
    "    \n",
    "    # print json in Jupyter Notebook\n",
    "    #print(DataCite)\n",
    "\n",
    "# create and open a new json file    \n",
    "with open('DataCite_Metadata_ROR01hhn8329.json', 'w') as f:\n",
    "    # write results in json file\n",
    "    json.dump(DataCite, f)\n",
    "\n",
    "# load to normalize json file\n",
    "data = json.load(open('DataCite_Metadata_ROR01hhn8329.json'))\n",
    "\n",
    "# load to normalize json file\n",
    "data_normalized = pd.json_normalize(data,'data')\n",
    "\n",
    "# create Pandas dataframe\n",
    "df = pd.DataFrame(data_normalized)\n",
    "\n",
    "# display Pandas dataframe as table\n",
    "display(df)\n",
    "\n",
    "# create csv file\n",
    "df.to_csv('DataCite_Metadata_ROR01hhn8329.csv')"
   ]
  },
  {
   "cell_type": "code",
   "execution_count": null,
   "id": "51f670ed-7676-464c-93ba-dd531435970b",
   "metadata": {},
   "outputs": [],
   "source": []
  }
 ],
 "metadata": {
  "kernelspec": {
   "display_name": "Python 3 (ipykernel)",
   "language": "python",
   "name": "python3"
  },
  "language_info": {
   "codemirror_mode": {
    "name": "ipython",
    "version": 3
   },
   "file_extension": ".py",
   "mimetype": "text/x-python",
   "name": "python",
   "nbconvert_exporter": "python",
   "pygments_lexer": "ipython3",
   "version": "3.10.5"
  }
 },
 "nbformat": 4,
 "nbformat_minor": 5
}
