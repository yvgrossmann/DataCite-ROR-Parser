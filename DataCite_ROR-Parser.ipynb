{
 "cells": [
  {
   "cell_type": "code",
   "execution_count": null,
   "id": "66775b8b-35bd-418e-bc01-53ec06e57a39",
   "metadata": {},
   "outputs": [],
   "source": [
    "# import libraries for json import \n",
    "import json\n",
    "import urllib.request, json \n",
    "\n",
    "# import libraries for json visualiziation\n",
    "import pandas as pd\n",
    "from pandas.io.json import json_normalize\n",
    "\n",
    "# connect to DataCite REST API and get items with special ROR ID and type dataset\n",
    "# https://ror.org/051qn8h41 is the ROR from the Ilia State Library\n",
    "with urllib.request.urlopen('https://api.datacite.org/dois?query=creators.affiliation.affiliationIdentifier:\"https://ror.org/051qn8h41\"') as url:\n",
    "    \n",
    "    # create a json file out of API call\n",
    "    DataCite = json.load(url)\n",
    "    \n",
    "    # print json in Jupyter Notebook\n",
    "    #print(DataCite)\n",
    "\n",
    "# create and open a new json file    \n",
    "with open('DataCite_Metadata_ROR051qn8h41.json', 'w') as f:\n",
    "    # write results in json file\n",
    "    json.dump(DataCite, f)\n",
    "\n",
    "# load to normalize json file\n",
    "data = json.load(open('DataCite_Metadata_ROR051qn8h41.json'))\n",
    "\n",
    "# load to normalize json file\n",
    "data_normalized = pd.json_normalize(data,'data')\n",
    "\n",
    "# create Pandas dataframe\n",
    "df = pd.DataFrame(data_normalized)\n",
    "\n",
    "# display Pandas dataframe as table\n",
    "display(df)\n",
    "\n",
    "# create csv file\n",
    "df.to_csv('DataCite_Metadata_ROR051qn8h41.csv')"
   ]
  }
 ],
 "metadata": {
  "kernelspec": {
   "display_name": "Python 3.9.1 64-bit",
   "language": "python",
   "name": "python3"
  },
  "language_info": {
   "codemirror_mode": {
    "name": "ipython",
    "version": 3
   },
   "file_extension": ".py",
   "mimetype": "text/x-python",
   "name": "python",
   "nbconvert_exporter": "python",
   "pygments_lexer": "ipython3",
   "version": "3.9.1"
  },
  "vscode": {
   "interpreter": {
    "hash": "8f50beaebdd565cae0d17d254a4f97111fb88675b3b20167c132224a80934a7a"
   }
  }
 },
 "nbformat": 4,
 "nbformat_minor": 5
}
